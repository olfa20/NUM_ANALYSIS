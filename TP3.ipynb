{
 "cells": [
  {
   "cell_type": "markdown",
   "id": "9e8fa055",
   "metadata": {},
   "source": [
    "                                                  PROJET ANALYSE NUMERIQUE : \n",
    "                                                   Intégration Numérique\n",
    "\n",
    "\n",
    "Introduction :\n",
    "De nombreuses méthodes numériques existent pour fournir une valeur approchée d’une intégrale qui ont toutes en commun de subdiviser [a,b] en n intervalles de largeur égale et d’approximer f(x) par une fonction (souvent un polynôme) donc le calcul de l’aire est plus simple. Parlons d’intégration numérique, de méthodes et de fonctions.\n",
    "\n"
   ]
  },
  {
   "cell_type": "markdown",
   "id": "33191c42",
   "metadata": {},
   "source": [
    "1.\tLa méthode des rectangles :\n",
    "Dans cette méthode on approchera f(x) sur l’intervalle [a,b] par un segment de droite parallèle à l’axe (Ox) créant ainsi un rectangle : dont le calcul de l’aire est simple. Le choix du segment est un élément important qui influera sur l’algorithme et sa rapidité de convergence.\n",
    "•\tRectangles à gauche :\n",
    "Dans cette méthode on approchera f(x) sur l’intervalle [an, bn] par le segment définit par l’équation :     y=f(an)\n",
    "la formule théorique est :                        n -1\n",
    "                                    I(f) = (b − a)∑f(xk)\n",
    "                                                  k=0\n",
    "\n",
    "Voici le code Python permettant de calculer l’aire de ces rectangles :"
   ]
  },
  {
   "cell_type": "code",
   "execution_count": 1,
   "id": "2eb5e5e2",
   "metadata": {},
   "outputs": [],
   "source": [
    "%matplotlib inline\n",
    "import ipywidgets as widgets\n",
    "import matplotlib.pyplot as plt\n",
    "import numpy as np\n",
    "from numpy import *\n",
    "from ipywidgets import interact, interactive, fixed, interact_manual\n",
    "import ipywidgets as widgets"
   ]
  },
  {
   "cell_type": "code",
   "execution_count": 2,
   "id": "6feac576",
   "metadata": {},
   "outputs": [],
   "source": [
    "class RectangleG ( object ) :\n",
    "    def __init__ (self , a , b , n , f ) :\n",
    "        self.a = a\n",
    "        self.b = b\n",
    "        self.x = np.linspace( a , b , n+1 )\n",
    "        self.f = f\n",
    "        self.n = n\n",
    "    def integrate ( self , f ) :\n",
    "        x= self.x\n",
    "        y= f( x )\n",
    "        h = float( x[1] - x[0] )\n",
    "        s = sum( y[ 0 : -1 ] )\n",
    "        return h * s\n",
    "    def Graph ( self , f , resolution =1001 ) :\n",
    "        xl = self.x\n",
    "        yl = f(xl)\n",
    "        xlist_fine =np.linspace( self.a , self.b , resolution )\n",
    "        for i in range ( self.n ) :\n",
    "            x_rect = [xl[ i ] , xl[ i ] , xl[ i + 1 ] , xl[i+1] , xl[ i ] ] # abscisses des sommets\n",
    "            y_rect = [0 , yl[ i ] , yl[ i ] , 0 , 0 ] # ordonnees des sommets\n",
    "            plt.plot ( x_rect , y_rect , 'r' )\n",
    "        yflist_fine = f ( xlist_fine )\n",
    "        _=plt.plot ( xlist_fine , yflist_fine )\n",
    "        _=plt.plot(xl, yl,\"bo\")\n",
    "        _=plt.xlabel ( 'x' )\n",
    "        _=plt.ylabel ( ' f ( x ) ' )\n",
    "        _=plt.title ( ' Methode des rectangles gauches' )\n",
    "        #plt.text( 0.5*( self.a+ self.b ) , f(self.b ) , 'I_{} ={:0.8f}'.format(self.n,self.integrate( f ) ) , fontsize =15 )\n",
    "        plt.show()"
   ]
  },
  {
   "cell_type": "markdown",
   "id": "71e7f275",
   "metadata": {},
   "source": [
    "Exemple :\n",
    "Pour n=5 on a :"
   ]
  },
  {
   "cell_type": "markdown",
   "id": "270d6eb8",
   "metadata": {},
   "source": [
    "Pour f(x)= x 2 − x + 5• La valeur approché = 9• La valeur exacte= 4.83 • L’erreur (e1)= 4.17\n",
    "\n",
    "pour f(x) = 1/1+x2 •la valeur approchée=0.37 • la valeur exacte =0.7853 •l'erreur = 0.4153\n",
    "\n",
    "Pour f(x)=sinx • la valeur approchée=0.0344 • la valeur exacte = 0.01 • l'erreur = 0.0244\n",
    "\n",
    "Pour f(x)=cosx • la valeur approchée=0.7990 • la valeur exacte =0.017 •l'erreur = 0.782"
   ]
  },
  {
   "cell_type": "markdown",
   "id": "8a419671",
   "metadata": {},
   "source": [
    "=> cette méthode ne semble pas réellement efficace ce qui laisse à penser que la complexité de cette méthode est linéaire, ce qui peut poser problème pour de très grandes valeurs de n."
   ]
  },
  {
   "cell_type": "markdown",
   "id": "afe28b48",
   "metadata": {},
   "source": [
    "2.\tRectangles aux points milieux :\n",
    " Dans cette méthode on approchera f(x) sur l’intervalle [an, bn] par le segment définit par l’équation : y=f( (an+bn)/2) :\n",
    "          la valeur approché est calculée par :                      n-1 \n",
    "                                                      I(f) = (b − a) ∑f(mk) \n",
    "                                                                    k=\n",
    "* Pour f(x)= x 2 − x + 5• La valeur approché = 5.26• La valeur exacte= 4.83 • L’erreur (e1)= 0.43\n",
    " \n",
    "* Pour la méthode des rectangles:\n",
    "\n",
    "    -on a donné la fonction avec un intervalle donné et le nombre de subdivisions\n",
    "\n",
    "    -on récupère par la suite la fonction f avec le calcul d'intégrale,la valeur approchée de l'intégrale et le graphe résultant les rectangles ainsi la valeur de l'intégrale approché"
   ]
  },
  {
   "cell_type": "markdown",
   "id": "59c10310",
   "metadata": {},
   "source": [
    "3.\tLa méthode des trapèzes :\n",
    "\n",
    " Dans cette méthode on approchera f(x) sur l’intervalle [a,b] par un segment de droite reliant le point de coordonnées (a, f(a)) au point de coordonnées (b, f(b)) créant ainsi un trapèze dont le calcul de l’aire est simple : ( f(a) + f(b) ) * ( b – a ) / 2) .\n"
   ]
  },
  {
   "cell_type": "code",
   "execution_count": 3,
   "id": "a265a85f",
   "metadata": {},
   "outputs": [],
   "source": [
    "class Trapezoidal(object):\n",
    "    def __init__(self, a, b, n, f):\n",
    "        self.a = a\n",
    "        self.b = b\n",
    "        self.x = np.linspace(a, b, n+1)\n",
    "        self.f = f\n",
    "        self.n = n\n",
    "    def integrate(self,f):\n",
    "        x=self.x\n",
    "        y=f(x)\n",
    "        h = float(x[1] - x[0])\n",
    "        s = y[0] + y[-1] + 2.0*sum(y[1:-1])\n",
    "        return h * s / 2.0\n",
    "    def Graph(self,f,resolution=1001):\n",
    "        xl = self.x\n",
    "        yl = f(xl)\n",
    "        xlist_fine=np.linspace(self.a, self.b, resolution)\n",
    "        for i in range(self.n):\n",
    "            x_rect = [xl[i], xl[i], xl[i+1], xl[i+1], xl[i]] # abscisses des sommets\n",
    "            y_rect = [0   , yl[i], yl[i+1]  , 0     , 0   ] # ordonnees des sommets\n",
    "            plt.plot(x_rect, y_rect,\"m\")\n",
    "        yflist_fine = f(xlist_fine)\n",
    "        plt.plot(xlist_fine, yflist_fine)#plot de f(x)\n",
    "        plt.plot(xl, yl,\"cs\")#point support\n",
    "        plt.ylabel ( ' f ( x ) ' )\n",
    "        plt.title ( ' Methode des Trapèzes' )\n",
    "        #plt.text( 0.5*( self.a+ self.b ) , f(self.b ) , 'I_{} ={:0.8f}'.format(self.n,self.integrate( f ) ) , fontsize =15 )"
   ]
  },
  {
   "cell_type": "markdown",
   "id": "da332414",
   "metadata": {},
   "source": [
    "Exemple :"
   ]
  },
  {
   "cell_type": "markdown",
   "id": "436f1712",
   "metadata": {},
   "source": [
    "Pour f(x)= x 2 − x + 5•\tLa valeur approché = 6.54•\tLa valeur exacte= 4.83 •\tL’erreur (e1)= 1.71\n",
    "\n"
   ]
  },
  {
   "cell_type": "markdown",
   "id": "b1225d82",
   "metadata": {},
   "source": [
    "Pour f(x)=sinx\n",
    "• la valeur approchée=0.029\n",
    "• la valeur exacte = 0.01\n",
    "• l'erreur = 0.019\n"
   ]
  },
  {
   "cell_type": "markdown",
   "id": "f8c125e7",
   "metadata": {},
   "source": [
    "pour f(x)=cosx • la valeur approchée=0.5997 • la valeur exacte =0.017 •l'erreur = 0.5827\n"
   ]
  },
  {
   "cell_type": "markdown",
   "id": "45711931",
   "metadata": {},
   "source": [
    "pour f(x) = 1/1+x2\n",
    "•la valeur approchée=0.3426 • la valeur exacte =0.7853 •l'erreur = 0.443"
   ]
  },
  {
   "cell_type": "markdown",
   "id": "73c0d206",
   "metadata": {},
   "source": [
    "Conclusion :\n",
    "\n",
    "Cette methode carractérisée par sa rapidité de mise en œuvre en fait c'est une méthode très employée. Cependant, la méthode de Simpson permet une estimation plus précise d'un ordre pour un coût souvent raisonnable.\n",
    "\n"
   ]
  },
  {
   "cell_type": "markdown",
   "id": "da28a7fa",
   "metadata": {},
   "source": [
    "4.\tLa méthode de Simpson :\n",
    "\n",
    "On interpole f sur l’intervalle [a, b] par un polynôme de degré 2 passant par les 2 points extrémités et par le point milieu (m, f(m)).\n",
    "\n"
   ]
  },
  {
   "cell_type": "code",
   "execution_count": 6,
   "id": "c9d99746",
   "metadata": {},
   "outputs": [],
   "source": [
    "class Simpson(object):\n",
    "    def __init__(self, a, b, n, f): \n",
    "        self.a = a\n",
    "        self.b = b\n",
    "        self.x = np.linspace(a, b, n+1)\n",
    "        self.f = f\n",
    "        self.n = n #\n",
    "\n",
    "    def integrate(self,f):\n",
    "        x=self.x \n",
    "        y=f(x)\n",
    "        h = float(x[1] - x[0])\n",
    "        n = len(x) - 1\n",
    "        if n % 2 == 1:\n",
    "            n =n-1\n",
    "        s = y[0] + y[n] + 4.0 * sum(y[1:-1:2]) + 2.0 * sum(y[2:-2:2])\n",
    "       \n",
    "        return h * s / 3.0\n",
    "    def Graph(self,f,resolution=1001):\n",
    "        xl = self.x \n",
    "        yl = f(xl) \n",
    "        xlist_fine=np.linspace(self.a, self.b, resolution)\n",
    "       \n",
    "        for i in range(self.n):\n",
    "            x1=np.linspace(xl[i], xl[i+1], resolution)\n",
    "            m=(xl[i]+xl[i+1])/2\n",
    "            bg=xl[i]\n",
    "            bd=xl[i+1]\n",
    "            l0 = (x1-m)/(bg-m)*(x1-bd)/(bg-bd)\n",
    "            l1 = (x1-bg)/(m-bg)*(x1-bd)/(m-bd)\n",
    "            l2 = (x1-bg)/(bd-bg)*(x1-m)/(bd-m)\n",
    "            P = f(bg)*l0 + f(m)*l1 + f(bd)*l2\n",
    "            plt.plot(x1,P,'b')\n",
    "            plt.plot(m,f(m),\"g*\")\n",
    "        yflist_fine = f(xlist_fine)\n",
    "        plt.plot(xlist_fine, yflist_fine,'b')\n",
    "        plt.plot(xl, yl,'r')\n",
    "        \n",
    "        plt.ylabel('f(x)')\n",
    "        plt.title('Simpson')\n",
    "        plt.text( 0.5*( self.a+ self.b ) , f(self.b ) , 'I_{} ={:0.8f}'.format(self.n,self.integrate( f ) ) , fontsize =15 )\n",
    "       "
   ]
  },
  {
   "cell_type": "markdown",
   "id": "0c0c156f",
   "metadata": {},
   "source": [
    "Pour  f(x)= x 2 − x + 5\n",
    "•\tLa valeur approché= 5.44\n",
    "•\tLa valeur exacte= 4.83\n",
    "•\tL’erreur (e2)=0.61 \n"
   ]
  },
  {
   "cell_type": "markdown",
   "id": "a7021714",
   "metadata": {},
   "source": [
    "Pour f(x)=sinx\n",
    "• la valeur approchée=0.02\n",
    "• la valeur exacte = 0.01\n",
    "• l'erreur = 0.010\n"
   ]
  },
  {
   "cell_type": "markdown",
   "id": "0401313b",
   "metadata": {},
   "source": [
    "Pour f(x)=cosx\n",
    "• la valeur approchée=0.932\n",
    "• la valeur exacte =0.017\n",
    "•l'erreur = 0.915"
   ]
  },
  {
   "cell_type": "markdown",
   "id": "56990922",
   "metadata": {},
   "source": [
    "Pour f(x) = 1/1+x2\n",
    "•la valeur approchée=0.306 • la valeur exacte =0.7853 •l'erreur = 0.479"
   ]
  },
  {
   "cell_type": "markdown",
   "id": "0fc456f3",
   "metadata": {},
   "source": [
    "Conclusion :\n",
    "la méthode de simpson se carractérise par sa forte précision .\n"
   ]
  },
  {
   "cell_type": "markdown",
   "id": "9c2ccbdb",
   "metadata": {},
   "source": [
    "5- la Methodes de Monte Carlo : \n"
   ]
  },
  {
   "cell_type": "markdown",
   "id": "bada100b",
   "metadata": {},
   "source": [
    "-Intégration numerique utilisant des realisations de variables aléatoires.\n",
    "-La méthode converge vers la bonne valeur lorsque n → ∞\n",
    "-Tres utilis´ee pour les int´egrales multiples car erreur ind´ependante de la dimension.\n",
    "-Version plus efficaces basées sur l’´echantillonnage preferentiel"
   ]
  },
  {
   "cell_type": "code",
   "execution_count": 7,
   "id": "2156fbb5",
   "metadata": {},
   "outputs": [],
   "source": [
    "def int_montecarlo(f,a,b,n):\n",
    "     res=0\n",
    "     for i in range(n):\n",
    "         res+=f(a+(b-a)*np.random.rand())\n",
    "     return res/n"
   ]
  },
  {
   "cell_type": "markdown",
   "id": "53aac689",
   "metadata": {},
   "source": [
    "•n nombre de realisations.\n",
    "\n",
    "•np.random.rand() realisation\n",
    "d’une variable aléatoire uniforme sur [0, 1].\n",
    "\n",
    "•a+np.random.rand()*(b-a) realisation d’une variable aleatoire\n",
    "uniforme sur [a, b]\n"
   ]
  },
  {
   "cell_type": "markdown",
   "id": "23d2d236",
   "metadata": {},
   "source": [
    "Simulation :"
   ]
  },
  {
   "cell_type": "code",
   "execution_count": 4,
   "id": "3536a25c",
   "metadata": {},
   "outputs": [],
   "source": [
    "from scipy.integrate import quad"
   ]
  },
  {
   "cell_type": "code",
   "execution_count": 10,
   "id": "d639f593",
   "metadata": {},
   "outputs": [
    {
     "data": {
      "application/vnd.jupyter.widget-view+json": {
       "model_id": "0c4409e061fe4d4882d97eafd48478da",
       "version_major": 2,
       "version_minor": 0
      },
      "text/plain": [
       "interactive(children=(Dropdown(description='methode', options=('Trapèze', 'Rectangle'), value='Trapèze'), Floa…"
      ]
     },
     "metadata": {},
     "output_type": "display_data"
    }
   ],
   "source": [
    "@interact(methode=['Trapèze','Rectangle'],\n",
    "          a=-np.pi,b=np.pi,\n",
    "          n=[5,25,50],\n",
    "          f={'f(x)=sin(x)':lambda x:np.sin(x),'g(x)=x**2+x-1':lambda x:x**2+x-1})\n",
    "def test(methode,a,b,n,f):\n",
    "    I = quad(f, a, b)[0]\n",
    "    meth={'Trapèze':Trapezoidal,'Rectangle':RectangleG}\n",
    "    M=meth[methode](a,b,n,f)\n",
    "    print('l'' intégrale avec la méthode {}= {}'.format(methode,M.integrate(f)))\n",
    "    print('l'' erreur d''intégration = {}'.format(I-M.integrate(f)))\n",
    "    M.Graph(f)\n",
    "    plt.show()\n"
   ]
  },
  {
   "cell_type": "code",
   "execution_count": 6,
   "id": "4b824b2d",
   "metadata": {},
   "outputs": [],
   "source": [
    "plt.show()"
   ]
  },
  {
   "cell_type": "markdown",
   "id": "12389dc4",
   "metadata": {},
   "source": [
    "Conclusion :\n",
    "La methode de simpson est plus précise que celle des trapézes et des rectangles car :\n",
    "\n",
    "    -Le degré de la methode de simpson est égal à 3\n",
    "    -Le degré de la methode de trapéze est égal à 1\n",
    "    -Le degré de la methode de trapéze est égal à 1"
   ]
  },
  {
   "cell_type": "code",
   "execution_count": null,
   "id": "692de8d5",
   "metadata": {},
   "outputs": [],
   "source": []
  }
 ],
 "metadata": {
  "kernelspec": {
   "display_name": "Python 3",
   "language": "python",
   "name": "python3"
  },
  "language_info": {
   "codemirror_mode": {
    "name": "ipython",
    "version": 3
   },
   "file_extension": ".py",
   "mimetype": "text/x-python",
   "name": "python",
   "nbconvert_exporter": "python",
   "pygments_lexer": "ipython3",
   "version": "3.8.8"
  }
 },
 "nbformat": 4,
 "nbformat_minor": 5
}
